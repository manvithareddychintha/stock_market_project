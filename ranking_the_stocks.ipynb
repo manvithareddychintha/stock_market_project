{
  "nbformat": 4,
  "nbformat_minor": 0,
  "metadata": {
    "colab": {
      "provenance": []
    },
    "kernelspec": {
      "name": "python3",
      "display_name": "Python 3"
    },
    "language_info": {
      "name": "python"
    }
  },
  "cells": [
    {
      "cell_type": "code",
      "execution_count": 159,
      "metadata": {
        "id": "i0tMSUywDTLs"
      },
      "outputs": [],
      "source": [
        "import pandas as pd\n",
        "import numpy as np\n",
        "import matplotlib.pyplot as plt\n",
        "import seaborn as sns\n",
        "import warnings\n",
        "warnings.filterwarnings('ignore')"
      ]
    },
    {
      "cell_type": "code",
      "source": [
        "df=pd.read_csv('/content/data_cleaned.csv')\n",
        "#print(df.info())\n",
        "#print(df.head())\n",
        "print(df.columns)"
      ],
      "metadata": {
        "colab": {
          "base_uri": "https://localhost:8080/"
        },
        "id": "kCNo15SqDgh-",
        "outputId": "e44acba1-d3d4-4c7f-c063-86c729c5d650"
      },
      "execution_count": 172,
      "outputs": [
        {
          "output_type": "stream",
          "name": "stdout",
          "text": [
            "Index(['Name', 'Ticker', 'Sub-Sector', 'Market Cap_x', 'PE Ratio_x',\n",
            "       '1M Return', '1W Return', '6M Return', '1Y Return', '5Y CAGR',\n",
            "       'PE Ratio_y', 'PB Ratio', 'PS Ratio', 'EV/EBITDA Ratio',\n",
            "       'EV / Revenue Ratio', 'Price / Sales', 'Price / Free Cash Flow',\n",
            "       'Market Cap_y', 'Enterprise Value', 'Dividend Yield',\n",
            "       'Dividend Per Share', 'Earnings Per Share', 'Payout Ratio',\n",
            "       'Free Cash Flow', 'Net Profit Margin', 'EBITDA Margin',\n",
            "       'Return on Assets', 'Return on Equity', 'Return on Investment', 'ROCE',\n",
            "       'Cash Flow Margin', 'Operating Cash Flow', 'Inventory Turnover Ratio',\n",
            "       'Asset Turnover Ratio', 'Working Capital Turnover Ratio',\n",
            "       'Days of Sales Outstanding', 'Debt to Equity',\n",
            "       'Long Term Debt to Equity', 'Interest Coverage Ratio',\n",
            "       '3Y Historical Dividend Growth', '5Y Historical Revenue Growth',\n",
            "       '5Y Historical EBITDA Growth', '5Y Historical EPS Growth',\n",
            "       '1Y Historical Revenue Growth', '1Y Historical EBITDA Growth',\n",
            "       '1Y Historical EPS Growth', '5Y Avg Return on Equity',\n",
            "       '5Y Avg Return on Assets', '5Y Avg Return on Investment',\n",
            "       '5Y Avg Net Profit Margin', '5Y Avg EBITDA Margin', 'Free Cash Flow.1',\n",
            "       'Operating Cash Flow.1', 'Investing Cash Flow', 'Financing Cash Flow',\n",
            "       'Change in Working Capital', 'Total Assets', 'Total Liabilities',\n",
            "       'Total Equity', 'Share Capital', 'Reserves & Surplus',\n",
            "       'Net Property,Plant & Equipment', 'Cash and Equivalent',\n",
            "       'Long Term Debt', 'Accounts Payable', 'Total Receivables',\n",
            "       'Total Inventory', 'Goodwill & Intangibles', 'Other Assets',\n",
            "       'Other Liabilities', '5Y CAGR Missing', '5Y EPS Growth Missing'],\n",
            "      dtype='object')\n"
          ]
        }
      ]
    },
    {
      "cell_type": "markdown",
      "source": [
        "**Constant Constraints**\n"
      ],
      "metadata": {
        "id": "Dvfb5O2rOXIK"
      }
    },
    {
      "cell_type": "code",
      "source": [
        "df['Market Cap'] = df['Market Cap_y']\n",
        "df_copy = df[df['Market Cap'] > 5000]\n",
        "\n",
        "df_copy=df_copy[\n",
        "    (df['Free Cash Flow'] > 0) &\n",
        "    (df['Return on Equity'] >= 7) &\n",
        "    (df['Net Profit Margin'] >= 7) &\n",
        "    (df['Interest Coverage Ratio'] > 2)\n",
        "]\n",
        "#print(df_copy.info())"
      ],
      "metadata": {
        "id": "5delw_QXMXPH"
      },
      "execution_count": 161,
      "outputs": []
    },
    {
      "cell_type": "markdown",
      "source": [
        "**Sector-Wise Constraints**"
      ],
      "metadata": {
        "id": "8EkLSRSQPY2Z"
      }
    },
    {
      "cell_type": "code",
      "source": [
        "df['Market Cap'] = df['Market Cap_y']\n",
        "df = df[df['Market Cap'] > 5000]\n",
        "\n",
        "sector_median_npm = df.groupby('Sub-Sector')['Net Profit Margin'].transform('median')\n",
        "\n",
        "filtered_df = df[\n",
        "    (df['Free Cash Flow'] > 0) &\n",
        "    (df['Return on Equity'] >= 7) &\n",
        "    (df['Net Profit Margin'] > sector_median_npm) &\n",
        "    (df['Interest Coverage Ratio'] > 2)\n",
        "]\n",
        "#print(len(filtered_df))\n",
        "#print(filtered_df.info())\n",
        "pd.set_option('display.max_row', None)\n",
        "#print(filtered_df[\"Name\"])"
      ],
      "metadata": {
        "id": "7HZ20B_KHIJA"
      },
      "execution_count": 162,
      "outputs": []
    },
    {
      "cell_type": "code",
      "source": [
        "filtered_df[\"Score\"] = (\n",
        "    filtered_df[\"Return on Equity\"].rank(ascending=False) +\n",
        "    filtered_df[\"Net Profit Margin\"].rank(ascending=False) +\n",
        "    filtered_df[\"Interest Coverage Ratio\"].rank(ascending=False) +\n",
        "    filtered_df[\"Free Cash Flow\"].rank(ascending=False)\n",
        ")\n",
        "filtered_df = filtered_df.sort_values(\"Score\")\n",
        "#print(filtered_df[\"Name\"])'\n",
        "print(filtered_df.columns)\n",
        "\n"
      ],
      "metadata": {
        "colab": {
          "base_uri": "https://localhost:8080/"
        },
        "id": "kJCwWsFLI-du",
        "outputId": "26477829-83d8-4cb0-ce21-7a1da18d9d15"
      },
      "execution_count": 163,
      "outputs": [
        {
          "output_type": "stream",
          "name": "stdout",
          "text": [
            "Index(['Name', 'Ticker', 'Sub-Sector', 'Market Cap_x', 'PE Ratio_x',\n",
            "       '1M Return', '1W Return', '6M Return', '1Y Return', '5Y CAGR',\n",
            "       'PE Ratio_y', 'PB Ratio', 'PS Ratio', 'EV/EBITDA Ratio',\n",
            "       'EV / Revenue Ratio', 'Price / Sales', 'Price / Free Cash Flow',\n",
            "       'Market Cap_y', 'Enterprise Value', 'Dividend Yield',\n",
            "       'Dividend Per Share', 'Earnings Per Share', 'Payout Ratio',\n",
            "       'Free Cash Flow', 'Net Profit Margin', 'EBITDA Margin',\n",
            "       'Return on Assets', 'Return on Equity', 'Return on Investment', 'ROCE',\n",
            "       'Cash Flow Margin', 'Operating Cash Flow', 'Inventory Turnover Ratio',\n",
            "       'Asset Turnover Ratio', 'Working Capital Turnover Ratio',\n",
            "       'Days of Sales Outstanding', 'Debt to Equity',\n",
            "       'Long Term Debt to Equity', 'Interest Coverage Ratio',\n",
            "       '3Y Historical Dividend Growth', '5Y Historical Revenue Growth',\n",
            "       '5Y Historical EBITDA Growth', '5Y Historical EPS Growth',\n",
            "       '1Y Historical Revenue Growth', '1Y Historical EBITDA Growth',\n",
            "       '1Y Historical EPS Growth', '5Y Avg Return on Equity',\n",
            "       '5Y Avg Return on Assets', '5Y Avg Return on Investment',\n",
            "       '5Y Avg Net Profit Margin', '5Y Avg EBITDA Margin', 'Free Cash Flow.1',\n",
            "       'Operating Cash Flow.1', 'Investing Cash Flow', 'Financing Cash Flow',\n",
            "       'Change in Working Capital', 'Total Assets', 'Total Liabilities',\n",
            "       'Total Equity', 'Share Capital', 'Reserves & Surplus',\n",
            "       'Net Property,Plant & Equipment', 'Cash and Equivalent',\n",
            "       'Long Term Debt', 'Accounts Payable', 'Total Receivables',\n",
            "       'Total Inventory', 'Goodwill & Intangibles', 'Other Assets',\n",
            "       'Other Liabilities', '5Y CAGR Missing', '5Y EPS Growth Missing',\n",
            "       'Market Cap', 'Score'],\n",
            "      dtype='object')\n"
          ]
        }
      ]
    },
    {
      "cell_type": "code",
      "source": [
        "import numpy as np\n",
        "\n",
        "def buffett_score(row):\n",
        "    score = 0\n",
        "\n",
        "    # ROE > 15%: 20 points\n",
        "    if row.get('Return on Equity', 0) > 15:\n",
        "        score += 20\n",
        "\n",
        "    # Debt to Equity < 0.5: 15 points\n",
        "    if row.get('Debt to Equity', np.inf) < 0.5:\n",
        "        score += 15\n",
        "\n",
        "    # PE Ratio < 25: 15 points\n",
        "    if row.get('PE Ratio_x', np.inf) < 25:\n",
        "        score += 15\n",
        "\n",
        "    # 5Y EPS Growth > 10%: 10 points\n",
        "    if row.get('5Y Historical EPS Growth', 0) > 10:\n",
        "        score += 10\n",
        "\n",
        "    # Free Cash Flow > 0: 10 points\n",
        "    if row.get('Free Cash Flow', -1) > 0:\n",
        "        score += 10\n",
        "\n",
        "    # Net Profit Margin > 10%: 10 points\n",
        "    if row.get('Net Profit Margin', 0) > 10:\n",
        "        score += 10\n",
        "\n",
        "    # ROCE > 15%: 10 points\n",
        "    if row.get('ROCE', 0) > 15:\n",
        "        score += 10\n",
        "\n",
        "    # Dividend Yield > 1% (optional): 5 points\n",
        "    if row.get('Dividend Yield', 0) > 1:\n",
        "        score += 5\n",
        "\n",
        "    return score\n"
      ],
      "metadata": {
        "id": "RdDphiwaInfB"
      },
      "execution_count": 164,
      "outputs": []
    },
    {
      "cell_type": "code",
      "source": [
        "filtered_df['Buffett Score'] = filtered_df.apply(buffett_score, axis=1)\n",
        "df_sorted = filtered_df.sort_values(by='Buffett Score', ascending=False)\n",
        "print(df_sorted[['Name', 'Ticker', 'Buffett Score']].head(20))\n"
      ],
      "metadata": {
        "colab": {
          "base_uri": "https://localhost:8080/"
        },
        "id": "hCEYCDRuD1Mk",
        "outputId": "e56fe474-70b3-4046-adbc-4511a115b070"
      },
      "execution_count": 165,
      "outputs": [
        {
          "output_type": "stream",
          "name": "stdout",
          "text": [
            "                                   Name      Ticker  Buffett Score\n",
            "10                                  itc         ITC             95\n",
            "76                                cipla       CIPLA             95\n",
            "408                                nava        NAVA             95\n",
            "6                               infosys        INFY             95\n",
            "444      great eastern shipping company      GESHIP             95\n",
            "563                maharashtra seamless  MAHSEAMLES             95\n",
            "99                   zydus lifesciences   ZYDUSLIFE             95\n",
            "712                                ghcl        GHCL             95\n",
            "742             sharda motor industries  SHARDAMOTR             95\n",
            "613                    cms info systems     CMSINFO             95\n",
            "588              banco products (india)  BANCOINDIA             95\n",
            "340                    karur vysya bank  KARURVYSYA             95\n",
            "349               kansai nerolac paints   KANSAINER             95\n",
            "79              dr reddy's laboratories     DRREDDY             90\n",
            "630                             epigral     EPIGRAL             90\n",
            "512             shriram pistons & rings  SHRIPISTON             90\n",
            "705               man infraconstruction    MANINFRA             90\n",
            "609                 ganesh housing corp  GANESHHOUC             90\n",
            "209  authum investment & infrastructure        AIIL             90\n",
            "401                        natco pharma  NATCOPHARM             90\n"
          ]
        }
      ]
    },
    {
      "cell_type": "code",
      "source": [
        "# Avoid divide by zero\n",
        "filtered_df['Earnings Yield'] = 1 / filtered_df['EV/EBITDA Ratio'].replace(0, float('nan'))\n",
        "filtered_df['ROIC'] = filtered_df['ROCE']  # Using ROCE as proxy\n",
        "\n",
        "filtered_df['Greenblatt Rank'] = (\n",
        "    filtered_df['Earnings Yield'].rank(ascending=False, method='min') +\n",
        "    filtered_df['ROIC'].rank(ascending=False, method='min')\n",
        ")\n",
        "\n",
        "filtered_df['Greenblatt Score'] = 100 - filtered_df['Greenblatt Rank'].rank(method='min') * (100 / len(filtered_df))\n"
      ],
      "metadata": {
        "id": "N2yQhXMwK7o_"
      },
      "execution_count": 166,
      "outputs": []
    },
    {
      "cell_type": "code",
      "source": [
        "def piotroski_score(row):\n",
        "    score = 0\n",
        "    if row.get('Net Profit Margin', -1) > 0: score += 1\n",
        "    if row.get('Return on Assets', -1) > row.get('5Y Avg Return on Assets', -2): score += 1\n",
        "    if row.get('Operating Cash Flow', -1) > 0: score += 1\n",
        "    if row.get('Debt to Equity', 1e6) < row.get('Long Term Debt to Equity', 1e6): score += 1\n",
        "    if row.get('Total Assets', 0) > 0 and row.get('Total Liabilities', 0) > 0:\n",
        "        if (row['Total Assets'] / row['Total Liabilities']) > 1.5: score += 1\n",
        "    if row.get('Asset Turnover Ratio', 0) > row.get('5Y Avg Return on Assets', -2): score += 1\n",
        "    return score\n",
        "\n",
        "filtered_df['Piotroski Score'] = filtered_df.apply(piotroski_score, axis=1)\n"
      ],
      "metadata": {
        "id": "g8cbEQkXecyu"
      },
      "execution_count": 167,
      "outputs": []
    },
    {
      "cell_type": "code",
      "source": [
        "filtered_df['PEG Ratio'] = filtered_df['PE Ratio_x'] / filtered_df['5Y Historical EPS Growth'].replace(0, float('nan'))\n",
        "filtered_df['Peter Lynch Score'] = filtered_df['PEG Ratio'].apply(\n",
        "    lambda x: 100 if x < 1 else 50 if x < 2 else 0\n",
        ")\n"
      ],
      "metadata": {
        "id": "JB-0ZiewegaF"
      },
      "execution_count": 168,
      "outputs": []
    },
    {
      "cell_type": "code",
      "source": [
        "filtered_df['Composite Score'] = (\n",
        "    filtered_df['Buffett Score'] * 0.3 +\n",
        "    filtered_df['Greenblatt Score'] * 0.3 +\n",
        "    filtered_df['Piotroski Score'] * (100 / 6) * 0.2 +\n",
        "    filtered_df['Peter Lynch Score'] * 0.2\n",
        ")\n",
        "\n",
        "filtered_df['Final Rank'] = filtered_df['Composite Score'].rank(ascending=False)\n"
      ],
      "metadata": {
        "id": "ELDp0u_Berxy"
      },
      "execution_count": 169,
      "outputs": []
    },
    {
      "cell_type": "code",
      "source": [
        "top_stocks = filtered_df.sort_values(by='Final Rank')\n",
        "#print(top_stocks[['Name', 'Final Rank', 'Buffett Score', 'Greenblatt Score', 'Piotroski Score', 'Peter Lynch Score', 'Composite Score']])\n",
        "\n",
        "print(len(top_stocks))"
      ],
      "metadata": {
        "colab": {
          "base_uri": "https://localhost:8080/"
        },
        "id": "Mr43b3CXeuxJ",
        "outputId": "d67f0826-94f4-49b5-e9e5-9f490f50abb0"
      },
      "execution_count": 170,
      "outputs": [
        {
          "output_type": "stream",
          "name": "stdout",
          "text": [
            "236\n"
          ]
        }
      ]
    },
    {
      "cell_type": "code",
      "source": [
        "# Convert company names to lowercase for safe matching\n",
        "filtered_df['Name_lower'] = filtered_df['Name'].str.lower()\n",
        "\n",
        "# Define keywords to search\n",
        "companies = ['hdfc bank', 'tata consultancy services', 'reliance industries']\n",
        "\n",
        "# Filter rows that contain any of the keywords\n",
        "filtered_df_matches = filtered_df[filtered_df['Name_lower'].str.contains('|'.join(companies), na=False)]\n",
        "\n",
        "# Show name and rank\n",
        "print(filtered_df_matches[['Name', 'Final Rank', 'Composite Score', 'Buffett Score', 'Greenblatt Score', 'Piotroski Score']].sort_values(by='Final Rank'))\n"
      ],
      "metadata": {
        "colab": {
          "base_uri": "https://localhost:8080/"
        },
        "id": "zTYw1SG4f8Tw",
        "outputId": "4405532a-1266-4242-af47-03f24e849900"
      },
      "execution_count": 171,
      "outputs": [
        {
          "output_type": "stream",
          "name": "stdout",
          "text": [
            "                        Name  Final Rank  Composite Score  Buffett Score  \\\n",
            "2  tata consultancy services        96.0        62.807910             70   \n",
            "1                  hdfc bank       136.0        54.553672             85   \n",
            "0        reliance industries       217.0        31.079096             35   \n",
            "\n",
            "   Greenblatt Score  Piotroski Score  \n",
            "2         94.915254                4  \n",
            "1         19.067797                4  \n",
            "0         24.152542                4  \n"
          ]
        }
      ]
    }
  ]
}