{
  "nbformat": 4,
  "nbformat_minor": 0,
  "metadata": {
    "colab": {
      "provenance": []
    },
    "kernelspec": {
      "name": "python3",
      "display_name": "Python 3"
    },
    "language_info": {
      "name": "python"
    }
  },
  "cells": [
    {
      "cell_type": "code",
      "execution_count": null,
      "metadata": {
        "id": "Sf9ZJThvuPEC"
      },
      "outputs": [],
      "source": [
        "import pandas as pd\n",
        "import numpy as np\n",
        "import matplotlib.pyplot as plt\n",
        "import seaborn as sns\n"
      ]
    },
    {
      "cell_type": "code",
      "source": [],
      "metadata": {
        "colab": {
          "base_uri": "https://localhost:8080/",
          "height": 106
        },
        "id": "XkrVjA5s4MJu",
        "outputId": "87c99250-644c-4622-a6ec-4c57b8f45681"
      },
      "execution_count": null,
      "outputs": [
        {
          "output_type": "error",
          "ename": "SyntaxError",
          "evalue": "invalid syntax (ipython-input-23-3449803727.py, line 57)",
          "traceback": [
            "\u001b[0;36m  File \u001b[0;32m\"/tmp/ipython-input-23-3449803727.py\"\u001b[0;36m, line \u001b[0;32m57\u001b[0m\n\u001b[0;31m    def load_data(self,'/content/data_filled_subsectors.csv'):\u001b[0m\n\u001b[0m                       ^\u001b[0m\n\u001b[0;31mSyntaxError\u001b[0m\u001b[0;31m:\u001b[0m invalid syntax\n"
          ]
        }
      ]
    },
    {
      "cell_type": "code",
      "source": [
        "data=pd.read_csv('/content/data with cagr added.csv');\n",
        "print(data.columns)\n",
        "#create set with 'Sub-Sector' and print the entire set\n",
        "sub_sector_set=set(data['Sub-Sector'])\n",
        "print(sub_sector_set)\n",
        "#now check what r stock names with empty sub-sector\n",
        "empty_sub_sector=data[data['Sub-Sector'].isnull()]\n",
        "print(empty_sub_sector['Name'])"
      ],
      "metadata": {
        "colab": {
          "base_uri": "https://localhost:8080/"
        },
        "id": "4kTd-4y5unbF",
        "outputId": "23be28a2-09a1-49b9-a0bf-0efcff815250"
      },
      "execution_count": null,
      "outputs": [
        {
          "output_type": "stream",
          "name": "stdout",
          "text": [
            "Index(['Name', 'Ticker', 'Sub-Sector', 'Market Cap_x', 'PE Ratio_x',\n",
            "       '1M Return', '1W Return', '6M Return', '1Y Return', '5Y CAGR',\n",
            "       'PE Ratio_y', 'PB Ratio', 'PS Ratio', 'EV/EBITDA Ratio',\n",
            "       'EV / Revenue Ratio', 'Price / Sales', 'Price / Free Cash Flow',\n",
            "       'Market Cap_y', 'Enterprise Value', 'Dividend Yield',\n",
            "       'Dividend Per Share', 'Earnings Per Share', 'Payout Ratio',\n",
            "       'Free Cash Flow', 'Net Profit Margin', 'EBITDA Margin',\n",
            "       'Return on Assets', 'Return on Equity', 'Return on Investment', 'ROCE',\n",
            "       'Cash Flow Margin', 'Operating Cash Flow', 'Inventory Turnover Ratio',\n",
            "       'Asset Turnover Ratio', 'Working Capital Turnover Ratio',\n",
            "       'Days of Sales Outstanding', 'Debt to Equity',\n",
            "       'Long Term Debt to Equity', 'Interest Coverage Ratio',\n",
            "       '3Y Historical Dividend Growth', '5Y Historical Revenue Growth',\n",
            "       '5Y Historical EBITDA Growth', '5Y Historical EPS Growth',\n",
            "       '1Y Historical Revenue Growth', '1Y Historical EBITDA Growth',\n",
            "       '1Y Historical EPS Growth', '5Y Avg Return on Equity',\n",
            "       '5Y Avg Return on Assets', '5Y Avg Return on Investment',\n",
            "       '5Y Avg Net Profit Margin', '5Y Avg EBITDA Margin', 'Free Cash Flow.1',\n",
            "       'Operating Cash Flow.1', 'Investing Cash Flow', 'Financing Cash Flow',\n",
            "       'Change in Working Capital', 'Total Assets', 'Total Liabilities',\n",
            "       'Total Equity', 'Share Capital', 'Reserves & Surplus',\n",
            "       'Net Property,Plant & Equipment', 'Cash and Equivalent',\n",
            "       'Long Term Debt', 'Accounts Payable', 'Total Receivables',\n",
            "       'Total Inventory', 'Goodwill & Intangibles', 'Other Assets',\n",
            "       'Other Liabilities'],\n",
            "      dtype='object')\n",
            "{'Industrial Machinery & Supplies & Components', 'Home Furnishing', 'Public Banks', 'Metals - Coke', 'Paints', 'Employment Services', 'Alcoholic Beverages', 'Auto Parts', 'Paper Products', 'Mining - Diversified', 'Gas Distribution', 'Retail - Online', 'Business Support Services', 'Mining - Manganese', 'Asset Management & Custody Banks', 'Movies & Entertainment', 'Steel', 'Commodities Trading', 'Metals - Aluminium', 'FMCG - Tobacco', 'Housewares', 'Insurance', 'Outsourced services', 'Hospitals & Diagnostic Centres', 'Power Generation', 'Retail - Speciality', 'Metals - Diversified', 'Packaged Foods & Meats', 'TV Channels & Broadcasters', 'Plastic Products', 'Tractors', nan, 'Building Products - Others', 'Telecom Services', 'Tour & Travel Services', 'Stationery', 'Roads', 'FMCG - Household Products', 'Oil & Gas - Refining & Marketing', 'Soft Drinks', 'Theatres', 'Software Services', 'Precious Metals, Jewellery & Watches', 'Cable & D2H', 'Movies & TV Serials', 'Iron & Steel', 'Building Products - Pipes', 'Data Processing & Outsourced Services', 'Construction & Engineering', 'Payment Infrastructure', 'Tires & Rubber', 'Heavy Electrical Equipments', 'Specialized Finance', 'Home Financing', 'Academic & Educational Services', 'Electrical Components & Equipments', 'Real Estate Development', 'Stock Exchanges & Ratings', 'Apparel, Accessories & Luxury Goods', 'Aerospace & Defense Equipments', 'Diversified Chemicals', 'FMCG - Foods', 'Wellness Services', 'Conglomerates', 'Batteries', 'Agro Products', 'Metals - Copper', 'Telecom Equipments', 'Labs & Life Sciences Services', 'Education Services', 'Retail - Department Stores', 'Building Products - Laminates', 'Power Trading & Consultancy', 'Mining - Coal', 'Oil & Gas - Equipment & Services', 'Office Services & Supplies', 'Wood Products', 'Asset Management', 'Biotechnology', 'Oil & Gas - Exploration & Production', 'Seeds', 'Sugar', 'Communication & Networking', 'Advertising', 'Power Transmission & Distribution', 'Equity', 'Two Wheelers', 'Power Infrastructure', 'Home Electronics & Appliances', 'Restaurants & Cafes', 'Water Management', 'Commodity', 'Footwear', 'Logistics', 'Electronic Equipments', 'Online Services', 'Ports', 'Diversified Financials', 'Consumer Finance', 'Gold', 'Mining - Copper', 'Environmental Services', 'Airlines', 'Building Products - Prefab Structures', 'Cement', 'Debt', 'Three Wheelers', 'Four Wheelers', 'Cycles', 'Textiles', 'Building Products - Ceramics', 'Fertilizers & Agro Chemicals', 'FMCG - Personal Products', 'Food Distributors', 'Commodity Chemicals', 'Mining - Iron Ore', 'Animation', 'Application Software', 'Health Care Equipment & Supplies', 'Construction Materials', 'Retail - Apparel', 'Private Banks', 'Investment Banking & Brokerage', 'Telecom Infrastructure', 'Building Products - Granite', 'IT Services & Consulting', 'Renewable Energy Equipment & Services', 'Shipbuilding', 'Metals - Iron', 'Heavy Machinery', 'Tea & Coffee', 'Hotels, Resorts & Cruise Lines', 'Real Estate', 'Apparel & Accessories', 'Cables', 'Building Products - Glass', 'Dredging', 'Radio', 'Industrial Machinery', 'Technology Hardware', 'Specialty Chemicals', 'Pharmaceuticals', 'Oil & Gas - Storage & Transportation', 'Airports', 'Metals - Lead', 'Packaging', 'Renewable Energy', 'Publishing', 'Trucks & Buses', 'Trading Companies & Distributors', 'Rail', 'Theme Parks & Gaming', 'Agricultural & Farm Machinery'}\n",
            "3917                                   fynx capital\n",
            "4558                   velox shipping and logistics\n",
            "4758               mount housing and infrastructure\n",
            "4810                                   ams polymers\n",
            "5180                    manglam global corporations\n",
            "5185                             apollo ingredients\n",
            "5202                               megh mayur infra\n",
            "5206                   whitehall commercial company\n",
            "5237                             empee distilleries\n",
            "5239        girdharilal sugar and allied industries\n",
            "5240                      shilpi cable technologies\n",
            "5243                              legacy mercantile\n",
            "5244                          web element solutions\n",
            "5245                                  has lifestyle\n",
            "5246                          supernova advertising\n",
            "5247                                dekson castings\n",
            "5248                          parnav sports academy\n",
            "5249                        kanak krishi implements\n",
            "5250                              gracious software\n",
            "5252                        real growth corporation\n",
            "5253                              sharp investments\n",
            "5259                              tirupati finlease\n",
            "5260                               u f m industries\n",
            "5262                              filtron engineers\n",
            "5271                        vivid global industries\n",
            "5272                                ttl enterprises\n",
            "5276                               punctual trading\n",
            "5277                              hariyana ventures\n",
            "5280                 twin roses trades and agencies\n",
            "5287                 bentley commercial enterprises\n",
            "5290                                devinsu trading\n",
            "5296                             mansoon trading co\n",
            "5297                             chase bright steel\n",
            "5303                                    smc credits\n",
            "5321             digital fibre infrastructure trust\n",
            "5326                     maple infrastructure trust\n",
            "5327                   automobile products of india\n",
            "5361                          skipper partly paidup\n",
            "5364                   yarn syndicate partly paidup\n",
            "5376    solara active pharma sciences partly paidup\n",
            "5402                              upl partly paidup\n",
            "5412      california software company partly paidup\n",
            "5427     shri niwas leasing & finance partly paidup\n",
            "5430                   fusion finance partly paidup\n",
            "5435                           dar credit & capital\n",
            "5438         garment mantra lifestyle partly paidup\n",
            "5441         lloyds engineering works partly paidup\n",
            "5443                                     sacheerome\n",
            "Name: Name, dtype: object\n"
          ]
        }
      ]
    },
    {
      "cell_type": "code",
      "source": [
        "import pandas as pd\n",
        "\n",
        "# Load data\n",
        "data = pd.read_csv('/content/data with cagr added.csv')\n",
        "\n",
        "# Mapping of company names (case-insensitive) to sub-sectors\n",
        "fill_map = {\n",
        "    'fynx capital': 'Consumer Lending',                      # NBFC for MSMEs :contentReference[oaicite:1]{index=1}\n",
        "    'velox shipping and logistics': 'Logistics',\n",
        "    'mount housing and infrastructure': 'Real Estate Development',\n",
        "    'ams polymers': 'Specialty Chemicals',                   # Chemical manufacturing :contentReference[oaicite:2]{index=2}\n",
        "    'manglam global corporations': 'Conglomerates',\n",
        "    'apollo ingredients': 'Food Distributors',\n",
        "    'megh mayur infra': 'Construction & Engineering',\n",
        "    'whitehall commercial company': 'Trading Companies & Distributors',\n",
        "    'empee distilleries': 'Alcoholic Beverages',\n",
        "    'girdharilal sugar and allied industries': 'Sugar',\n",
        "    'shilpi cable technologies': 'Cables',\n",
        "    'legacy mercantile': 'Trading Companies & Distributors',\n",
        "    'web element solutions': 'Software Services',\n",
        "    'has lifestyle': 'Apparel, Accessories & Luxury Goods',\n",
        "    'supernova advertising': 'Advertising',\n",
        "    'dekson castings': 'Auto Parts',\n",
        "    'parnav sports academy': 'Education Services',\n",
        "    'kanak krishi implements': 'Agricultural & Farm Machinery',\n",
        "    'gracious software': 'Software Services',\n",
        "    'real growth corporation': 'Steel',  # pick one if ambiguous\n",
        "    'sharp investments': 'Asset Management & Custody Banks',\n",
        "    'tirupati finlease': 'Specialized Finance',\n",
        "    'u f m industries': 'Packaged Foods & Meats',\n",
        "    'filtron engineers': 'Industrial Machinery & Supplies & Components',\n",
        "    'vivid global industries': 'Diversified Chemicals',\n",
        "    'ttl enterprises': 'Cannot Determine',\n",
        "    'punctual trading': 'Trading Companies & Distributors',\n",
        "    'hariyana ventures': 'Iron & Steel',\n",
        "    'twin roses trades and agencies': 'Trading Companies & Distributors',\n",
        "    'bentley commercial enterprises': 'Diversified Financials',\n",
        "    'devinsu trading': 'Trading Companies & Distributors',\n",
        "    'mansoon trading co': 'Trading Companies & Distributors',\n",
        "    'chase bright steel': 'Steel',\n",
        "    'smc credits': 'Consumer Finance',\n",
        "    'digital fibre infrastructure trust': 'Telecom Infrastructure',\n",
        "    'maple infrastructure trust': 'Real Estate Development',\n",
        "    'automobile products of india': 'Auto Parts',\n",
        "    'skipper partly paidup': 'Power Transmission & Distribution',\n",
        "    'yarn syndicate partly paidup': 'Textiles',\n",
        "    'solara active pharma sciences partly paidup': 'Pharmaceuticals',\n",
        "    'upl partly paidup': 'Fertilizers & Agro Chemicals',\n",
        "    'california software company partly paidup': 'Software Services',\n",
        "    'shri niwas leasing & finance partly paidup': 'Specialized Finance',\n",
        "    'fusion finance partly paidup': 'Specialized Finance',\n",
        "    'dar credit & capital': 'Specialized Finance',\n",
        "    'garment mantra lifestyle partly paidup': 'Retail - Apparel',\n",
        "    'lloyds engineering works partly paidup': 'Construction & Engineering',\n",
        "    'sacheerome': 'Specialty Chemicals'\n",
        "}\n",
        "\n",
        "# Lowercase company names for matching\n",
        "data['Name_lower'] = data['Name'].str.lower()\n",
        "\n",
        "# Apply mapping to fill missing sub-sectors\n",
        "for name, sector in fill_map.items():\n",
        "    data.loc[\n",
        "        (data['Name_lower'] == name) & data['Sub-Sector'].isnull(),\n",
        "        'Sub-Sector'\n",
        "    ] = sector\n",
        "\n",
        "# Remove helper column\n",
        "data.drop(columns=['Name_lower'], inplace=True)\n",
        "\n",
        "# Report remaining missing sub-sectors\n",
        "print(\"Remaining missing Sub-Sector count:\", data['Sub-Sector'].isnull().sum())\n",
        "\n",
        "# Save the updated DataFrame\n",
        "data.to_csv('/content/data_filled_subsectors.csv', index=False)\n",
        "print(\"Filled data saved to '/content/data_filled_subsectors.csv'\")\n",
        "\n"
      ],
      "metadata": {
        "colab": {
          "base_uri": "https://localhost:8080/"
        },
        "id": "zEahzGV3xRCi",
        "outputId": "595bbb6b-460a-4b72-9f4f-d42935db8273"
      },
      "execution_count": null,
      "outputs": [
        {
          "output_type": "stream",
          "name": "stdout",
          "text": [
            "Remaining missing Sub-Sector count: 0\n",
            "Filled data saved to '/content/data_filled_subsectors.csv'\n"
          ]
        }
      ]
    },
    {
      "cell_type": "code",
      "source": [
        "data['Dividend Yield'].fillna(0, inplace=True)\n",
        "data['3Y Historical Dividend Growth'].fillna(0, inplace=True)\n"
      ],
      "metadata": {
        "colab": {
          "base_uri": "https://localhost:8080/"
        },
        "id": "GFMwHTFO0U8n",
        "outputId": "e40da85c-46b0-4741-e3cf-588c500e23fa"
      },
      "execution_count": null,
      "outputs": [
        {
          "output_type": "stream",
          "name": "stderr",
          "text": [
            "/tmp/ipython-input-19-3734655429.py:1: FutureWarning: A value is trying to be set on a copy of a DataFrame or Series through chained assignment using an inplace method.\n",
            "The behavior will change in pandas 3.0. This inplace method will never work because the intermediate object on which we are setting values always behaves as a copy.\n",
            "\n",
            "For example, when doing 'df[col].method(value, inplace=True)', try using 'df.method({col: value}, inplace=True)' or df[col] = df[col].method(value) instead, to perform the operation inplace on the original object.\n",
            "\n",
            "\n",
            "  data['Dividend Yield'].fillna(0, inplace=True)\n",
            "/tmp/ipython-input-19-3734655429.py:2: FutureWarning: A value is trying to be set on a copy of a DataFrame or Series through chained assignment using an inplace method.\n",
            "The behavior will change in pandas 3.0. This inplace method will never work because the intermediate object on which we are setting values always behaves as a copy.\n",
            "\n",
            "For example, when doing 'df[col].method(value, inplace=True)', try using 'df.method({col: value}, inplace=True)' or df[col] = df[col].method(value) instead, to perform the operation inplace on the original object.\n",
            "\n",
            "\n",
            "  data['3Y Historical Dividend Growth'].fillna(0, inplace=True)\n"
          ]
        }
      ]
    },
    {
      "cell_type": "code",
      "source": [
        "import pandas as pd\n",
        "\n",
        "# Load data\n",
        "data = pd.read_csv('/content/data with cagr added.csv')\n",
        "\n",
        "# Fill dividend-related columns with 0 (conservative)\n",
        "data['Dividend Yield'].fillna(0, inplace=True)\n",
        "data['3Y Historical Dividend Growth'].fillna(0, inplace=True)\n",
        "\n",
        "# Fill missing values sector-wise, then globally\n",
        "numeric_cols = data.select_dtypes(include='number').columns\n",
        "\n",
        "for col in numeric_cols:\n",
        "    data[col] = data.groupby('Sub-Sector')[col].transform(lambda x: x.fillna(x.median()))\n",
        "\n",
        "data[numeric_cols] = data[numeric_cols].fillna(data[numeric_cols].median())\n",
        "\n",
        "# Optional: Add missing data flags for important fields\n",
        "data['5Y CAGR Missing'] = data['5Y CAGR'].isnull().astype(int)\n",
        "data['5Y EPS Growth Missing'] = data['5Y Historical EPS Growth'].isnull().astype(int)\n",
        "\n",
        "# Save cleaned dataset\n",
        "data.to_csv('/content/data_cleaned.csv', index=False)\n",
        "\n",
        "print(\"✅ All missing values handled. Final dataset saved as 'data_cleaned.csv'\")\n"
      ],
      "metadata": {
        "colab": {
          "base_uri": "https://localhost:8080/"
        },
        "id": "ny0y2xEq0rAB",
        "outputId": "c95e60ae-784f-4cfb-f9b6-74d5ab332aca"
      },
      "execution_count": null,
      "outputs": [
        {
          "output_type": "stream",
          "name": "stderr",
          "text": [
            "/tmp/ipython-input-21-3347838003.py:7: FutureWarning: A value is trying to be set on a copy of a DataFrame or Series through chained assignment using an inplace method.\n",
            "The behavior will change in pandas 3.0. This inplace method will never work because the intermediate object on which we are setting values always behaves as a copy.\n",
            "\n",
            "For example, when doing 'df[col].method(value, inplace=True)', try using 'df.method({col: value}, inplace=True)' or df[col] = df[col].method(value) instead, to perform the operation inplace on the original object.\n",
            "\n",
            "\n",
            "  data['Dividend Yield'].fillna(0, inplace=True)\n",
            "/tmp/ipython-input-21-3347838003.py:8: FutureWarning: A value is trying to be set on a copy of a DataFrame or Series through chained assignment using an inplace method.\n",
            "The behavior will change in pandas 3.0. This inplace method will never work because the intermediate object on which we are setting values always behaves as a copy.\n",
            "\n",
            "For example, when doing 'df[col].method(value, inplace=True)', try using 'df.method({col: value}, inplace=True)' or df[col] = df[col].method(value) instead, to perform the operation inplace on the original object.\n",
            "\n",
            "\n",
            "  data['3Y Historical Dividend Growth'].fillna(0, inplace=True)\n"
          ]
        },
        {
          "output_type": "stream",
          "name": "stdout",
          "text": [
            "✅ All missing values handled. Final dataset saved as 'data_cleaned.csv'\n"
          ]
        }
      ]
    },
    {
      "cell_type": "code",
      "source": [
        "\n",
        "pd.set_option('display.max_rows', None)\n",
        "print(data.isnull().mean()*100)"
      ],
      "metadata": {
        "colab": {
          "base_uri": "https://localhost:8080/"
        },
        "id": "HcgARfkhxU3P",
        "outputId": "b541898c-b06c-45b2-f400-44ffc696c065"
      },
      "execution_count": null,
      "outputs": [
        {
          "output_type": "stream",
          "name": "stdout",
          "text": [
            "Name                              0.000000\n",
            "Ticker                            0.000000\n",
            "Sub-Sector                        0.881705\n",
            "Market Cap_x                      0.000000\n",
            "PE Ratio_x                        0.000000\n",
            "1M Return                         0.000000\n",
            "1W Return                         0.000000\n",
            "6M Return                         0.000000\n",
            "1Y Return                         0.000000\n",
            "5Y CAGR                           0.000000\n",
            "PE Ratio_y                        0.000000\n",
            "PB Ratio                          0.000000\n",
            "PS Ratio                          0.000000\n",
            "EV/EBITDA Ratio                   0.000000\n",
            "EV / Revenue Ratio                0.000000\n",
            "Price / Sales                     0.000000\n",
            "Price / Free Cash Flow            0.000000\n",
            "Market Cap_y                      0.000000\n",
            "Enterprise Value                  0.000000\n",
            "Dividend Yield                    0.000000\n",
            "Dividend Per Share                0.000000\n",
            "Earnings Per Share                0.000000\n",
            "Payout Ratio                      0.000000\n",
            "Free Cash Flow                    0.000000\n",
            "Net Profit Margin                 0.000000\n",
            "EBITDA Margin                     0.000000\n",
            "Return on Assets                  0.000000\n",
            "Return on Equity                  0.000000\n",
            "Return on Investment              0.000000\n",
            "ROCE                              0.000000\n",
            "Cash Flow Margin                  0.000000\n",
            "Operating Cash Flow               0.000000\n",
            "Inventory Turnover Ratio          0.000000\n",
            "Asset Turnover Ratio              0.000000\n",
            "Working Capital Turnover Ratio    0.000000\n",
            "Days of Sales Outstanding         0.000000\n",
            "Debt to Equity                    0.000000\n",
            "Long Term Debt to Equity          0.000000\n",
            "Interest Coverage Ratio           0.000000\n",
            "3Y Historical Dividend Growth     0.000000\n",
            "5Y Historical Revenue Growth      0.000000\n",
            "5Y Historical EBITDA Growth       0.000000\n",
            "5Y Historical EPS Growth          0.000000\n",
            "1Y Historical Revenue Growth      0.000000\n",
            "1Y Historical EBITDA Growth       0.000000\n",
            "1Y Historical EPS Growth          0.000000\n",
            "5Y Avg Return on Equity           0.000000\n",
            "5Y Avg Return on Assets           0.000000\n",
            "5Y Avg Return on Investment       0.000000\n",
            "5Y Avg Net Profit Margin          0.000000\n",
            "5Y Avg EBITDA Margin              0.000000\n",
            "Free Cash Flow.1                  0.000000\n",
            "Operating Cash Flow.1             0.000000\n",
            "Investing Cash Flow               0.000000\n",
            "Financing Cash Flow               0.000000\n",
            "Change in Working Capital         0.000000\n",
            "Total Assets                      0.000000\n",
            "Total Liabilities                 0.000000\n",
            "Total Equity                      0.000000\n",
            "Share Capital                     0.000000\n",
            "Reserves & Surplus                0.000000\n",
            "Net Property,Plant & Equipment    0.000000\n",
            "Cash and Equivalent               0.000000\n",
            "Long Term Debt                    0.000000\n",
            "Accounts Payable                  0.000000\n",
            "Total Receivables                 0.000000\n",
            "Total Inventory                   0.000000\n",
            "Goodwill & Intangibles            0.000000\n",
            "Other Assets                      0.000000\n",
            "Other Liabilities                 0.000000\n",
            "5Y CAGR Missing                   0.000000\n",
            "5Y EPS Growth Missing             0.000000\n",
            "dtype: float64\n"
          ]
        }
      ]
    },
    {
      "cell_type": "code",
      "source": [],
      "metadata": {
        "colab": {
          "base_uri": "https://localhost:8080/",
          "height": 158
        },
        "id": "ANppb5Lj5XMM",
        "outputId": "c23ba501-bacd-4b13-f899-a13f5adf982f"
      },
      "execution_count": null,
      "outputs": [
        {
          "output_type": "error",
          "ename": "NameError",
          "evalue": "name 'StockAnalyzer' is not defined",
          "traceback": [
            "\u001b[0;31m---------------------------------------------------------------------------\u001b[0m",
            "\u001b[0;31mNameError\u001b[0m                                 Traceback (most recent call last)",
            "\u001b[0;32m/tmp/ipython-input-28-1718767011.py\u001b[0m in \u001b[0;36m<cell line: 0>\u001b[0;34m()\u001b[0m\n\u001b[1;32m      1\u001b[0m \u001b[0;31m# Initialize the analyzer\u001b[0m\u001b[0;34m\u001b[0m\u001b[0;34m\u001b[0m\u001b[0m\n\u001b[0;32m----> 2\u001b[0;31m \u001b[0manalyzer\u001b[0m \u001b[0;34m=\u001b[0m \u001b[0mStockAnalyzer\u001b[0m\u001b[0;34m(\u001b[0m\u001b[0;34m)\u001b[0m\u001b[0;34m\u001b[0m\u001b[0;34m\u001b[0m\u001b[0m\n\u001b[0m",
            "\u001b[0;31mNameError\u001b[0m: name 'StockAnalyzer' is not defined"
          ]
        }
      ]
    }
  ]
}